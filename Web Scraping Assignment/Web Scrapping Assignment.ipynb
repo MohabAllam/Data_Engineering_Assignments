{
 "cells": [
  {
   "cell_type": "markdown",
   "id": "38cfe0e6",
   "metadata": {},
   "source": [
    "# Web Scraping Assignment"
   ]
  },
  {
   "cell_type": "code",
   "execution_count": 5,
   "id": "d926cdef",
   "metadata": {},
   "outputs": [],
   "source": [
    "# Import Necessary Libraries\n",
    "import requests\n",
    "from bs4 import BeautifulSoup"
   ]
  },
  {
   "cell_type": "markdown",
   "id": "15160336",
   "metadata": {},
   "source": [
    "## Scraping Wuzzuf Website"
   ]
  },
  {
   "cell_type": "code",
   "execution_count": 6,
   "id": "3567a0eb",
   "metadata": {},
   "outputs": [
    {
     "data": {
      "text/plain": [
       "<Response [200]>"
      ]
     },
     "execution_count": 6,
     "metadata": {},
     "output_type": "execute_result"
    }
   ],
   "source": [
    "# This is a page of data jobs\n",
    "response = requests.get('https://wuzzuf.net/search/jobs/?q=data%20science&a=navbg')\n",
    "response"
   ]
  },
  {
   "cell_type": "code",
   "execution_count": 7,
   "id": "59dc75c0",
   "metadata": {},
   "outputs": [],
   "source": [
    "s = BeautifulSoup(response.text, 'html.parser')"
   ]
  },
  {
   "cell_type": "code",
   "execution_count": 8,
   "id": "61adbefa",
   "metadata": {},
   "outputs": [
    {
     "data": {
      "text/plain": [
       "'https://wuzzuf.net/jobs/p/HAUXcNyYg78s-Data-Analyst-Yodawy-Med-Giza-Egypt'"
      ]
     },
     "execution_count": 8,
     "metadata": {},
     "output_type": "execute_result"
    }
   ],
   "source": [
    "# Job Link\n",
    "s.find_all('div', 'css-1gatmva e1v1l3u10')[0].div.div.h2.a['href']"
   ]
  },
  {
   "cell_type": "code",
   "execution_count": 9,
   "id": "9316d7bf",
   "metadata": {},
   "outputs": [
    {
     "data": {
      "text/plain": [
       "'Data Analyst'"
      ]
     },
     "execution_count": 9,
     "metadata": {},
     "output_type": "execute_result"
    }
   ],
   "source": [
    "# Job Title\n",
    "s.find_all('div', 'css-1gatmva e1v1l3u10')[0].div.div.h2.a.text"
   ]
  },
  {
   "cell_type": "code",
   "execution_count": 10,
   "id": "ba66cb3a",
   "metadata": {},
   "outputs": [
    {
     "data": {
      "text/plain": [
       "'Yodawy'"
      ]
     },
     "execution_count": 10,
     "metadata": {},
     "output_type": "execute_result"
    }
   ],
   "source": [
    "# Company Name\n",
    "s.find_all('div', 'css-1gatmva e1v1l3u10')[0].div.find_all('div')[1].a.text.split(' ')[0]"
   ]
  },
  {
   "cell_type": "code",
   "execution_count": 11,
   "id": "7a527899",
   "metadata": {},
   "outputs": [
    {
     "data": {
      "text/plain": [
       "'Mohandessin'"
      ]
     },
     "execution_count": 11,
     "metadata": {},
     "output_type": "execute_result"
    }
   ],
   "source": [
    "# City\n",
    "s.find_all('div', 'css-1gatmva e1v1l3u10')[0].div.find_all('div')[1].span.text.split(',')[0]"
   ]
  },
  {
   "cell_type": "code",
   "execution_count": 12,
   "id": "3e72f4db",
   "metadata": {},
   "outputs": [
    {
     "data": {
      "text/plain": [
       "'Giza'"
      ]
     },
     "execution_count": 12,
     "metadata": {},
     "output_type": "execute_result"
    }
   ],
   "source": [
    "# Country\n",
    "s.find_all('div', 'css-1gatmva e1v1l3u10')[0].div.find_all('div')[1].span.text.split(',')[1].strip()"
   ]
  },
  {
   "cell_type": "code",
   "execution_count": 13,
   "id": "02268a3d",
   "metadata": {},
   "outputs": [
    {
     "data": {
      "text/plain": [
       "'Entry Level'"
      ]
     },
     "execution_count": 13,
     "metadata": {},
     "output_type": "execute_result"
    }
   ],
   "source": [
    "# Job Type\n",
    "s.find_all('div', 'css-1gatmva e1v1l3u10')[0].div.find_all('div')[5].a.text"
   ]
  },
  {
   "cell_type": "code",
   "execution_count": 14,
   "id": "558b2cbe",
   "metadata": {},
   "outputs": [
    {
     "data": {
      "text/plain": [
       "'IT/Software'"
      ]
     },
     "execution_count": 14,
     "metadata": {},
     "output_type": "execute_result"
    }
   ],
   "source": [
    "# Skills\n",
    "s.find_all('div', 'css-1gatmva e1v1l3u10')[0].div.find_all('div')[5].find_all('a')[1:][0].text.strip().split(' ')[1]"
   ]
  },
  {
   "cell_type": "code",
   "execution_count": 15,
   "id": "8d7b561b",
   "metadata": {},
   "outputs": [
    {
     "data": {
      "text/html": [
       "<div>\n",
       "<style scoped>\n",
       "    .dataframe tbody tr th:only-of-type {\n",
       "        vertical-align: middle;\n",
       "    }\n",
       "\n",
       "    .dataframe tbody tr th {\n",
       "        vertical-align: top;\n",
       "    }\n",
       "\n",
       "    .dataframe thead th {\n",
       "        text-align: right;\n",
       "    }\n",
       "</style>\n",
       "<table border=\"1\" class=\"dataframe\">\n",
       "  <thead>\n",
       "    <tr style=\"text-align: right;\">\n",
       "      <th></th>\n",
       "      <th>Job title</th>\n",
       "      <th>Company name</th>\n",
       "      <th>City</th>\n",
       "      <th>Country</th>\n",
       "      <th>Job type</th>\n",
       "      <th>Skills</th>\n",
       "    </tr>\n",
       "  </thead>\n",
       "  <tbody>\n",
       "  </tbody>\n",
       "</table>\n",
       "</div>"
      ],
      "text/plain": [
       "Empty DataFrame\n",
       "Columns: [Job title, Company name, City, Country, Job type, Skills]\n",
       "Index: []"
      ]
     },
     "execution_count": 15,
     "metadata": {},
     "output_type": "execute_result"
    }
   ],
   "source": [
    "# Create empty table with desired column names using pandas library\n",
    "import pandas as pd\n",
    "df = pd.DataFrame(columns= ['Job title', 'Company name', 'City', 'Country', 'Job type', 'Skills'])\n",
    "df"
   ]
  },
  {
   "cell_type": "code",
   "execution_count": 16,
   "id": "f50878b4",
   "metadata": {},
   "outputs": [
    {
     "data": {
      "text/html": [
       "<div>\n",
       "<style scoped>\n",
       "    .dataframe tbody tr th:only-of-type {\n",
       "        vertical-align: middle;\n",
       "    }\n",
       "\n",
       "    .dataframe tbody tr th {\n",
       "        vertical-align: top;\n",
       "    }\n",
       "\n",
       "    .dataframe thead th {\n",
       "        text-align: right;\n",
       "    }\n",
       "</style>\n",
       "<table border=\"1\" class=\"dataframe\">\n",
       "  <thead>\n",
       "    <tr style=\"text-align: right;\">\n",
       "      <th></th>\n",
       "      <th>Job title</th>\n",
       "      <th>Company name</th>\n",
       "      <th>City</th>\n",
       "      <th>Country</th>\n",
       "      <th>Job type</th>\n",
       "      <th>Skills</th>\n",
       "    </tr>\n",
       "  </thead>\n",
       "  <tbody>\n",
       "    <tr>\n",
       "      <th>0</th>\n",
       "      <td>Data Analyst</td>\n",
       "      <td>Yodawy</td>\n",
       "      <td>Mohandessin</td>\n",
       "      <td>Giza</td>\n",
       "      <td>Entry Level</td>\n",
       "      <td>[IT/Software Development, Analyst/Research, En...</td>\n",
       "    </tr>\n",
       "    <tr>\n",
       "      <th>1</th>\n",
       "      <td>Data &amp; Analytics Manager Dubai, United Arab Em...</td>\n",
       "      <td>GroupM</td>\n",
       "      <td>Dubai</td>\n",
       "      <td>United Arab Emirates</td>\n",
       "      <td>Not specified</td>\n",
       "      <td>[Administration, IT/Software Development, Engi...</td>\n",
       "    </tr>\n",
       "    <tr>\n",
       "      <th>2</th>\n",
       "      <td>Data &amp; Analytics Director Dubai, United Arab E...</td>\n",
       "      <td>GroupM</td>\n",
       "      <td>Dubai</td>\n",
       "      <td>United Arab Emirates</td>\n",
       "      <td>Not specified</td>\n",
       "      <td>[Administration, IT/Software Development, Engi...</td>\n",
       "    </tr>\n",
       "    <tr>\n",
       "      <th>3</th>\n",
       "      <td>Senior Data Scientist II</td>\n",
       "      <td>Alphapartners</td>\n",
       "      <td>Dubai</td>\n",
       "      <td>United Arab Emirates</td>\n",
       "      <td>Not specified</td>\n",
       "      <td>[R&amp;D/Science, IT/Software Development, Enginee...</td>\n",
       "    </tr>\n",
       "    <tr>\n",
       "      <th>4</th>\n",
       "      <td>Senior Data Scientist II</td>\n",
       "      <td>Careem</td>\n",
       "      <td>Dubai</td>\n",
       "      <td>United Arab Emirates</td>\n",
       "      <td>Not specified</td>\n",
       "      <td>[R&amp;D/Science, IT/Software Development, Enginee...</td>\n",
       "    </tr>\n",
       "    <tr>\n",
       "      <th>5</th>\n",
       "      <td>Master Data Administrator and Analyst</td>\n",
       "      <td>DANONE</td>\n",
       "      <td>Cairo</td>\n",
       "      <td>Egypt</td>\n",
       "      <td>Not specified</td>\n",
       "      <td>[IT/Software Development, Analyst/Research, En...</td>\n",
       "    </tr>\n",
       "    <tr>\n",
       "      <th>6</th>\n",
       "      <td>Data Center Security Specialist - UAE National...</td>\n",
       "      <td>Amazon</td>\n",
       "      <td>Dubai</td>\n",
       "      <td>United Arab Emirates</td>\n",
       "      <td>Not specified</td>\n",
       "      <td>[Installation/Maintenance/Repair, IT/Software ...</td>\n",
       "    </tr>\n",
       "    <tr>\n",
       "      <th>7</th>\n",
       "      <td>Senior Data Scientist</td>\n",
       "      <td>Etisalat</td>\n",
       "      <td>Maadi</td>\n",
       "      <td>Cairo</td>\n",
       "      <td>Experienced</td>\n",
       "      <td>[IT/Software Development, Analyst/Research, En...</td>\n",
       "    </tr>\n",
       "    <tr>\n",
       "      <th>8</th>\n",
       "      <td>Systems Engineer, Data Protection</td>\n",
       "      <td>VAS</td>\n",
       "      <td>Cairo</td>\n",
       "      <td>Egypt</td>\n",
       "      <td>Not specified</td>\n",
       "      <td>[Installation/Maintenance/Repair, IT/Software ...</td>\n",
       "    </tr>\n",
       "    <tr>\n",
       "      <th>9</th>\n",
       "      <td>Manager of Data Analysis and AI | Marine Industry</td>\n",
       "      <td>RAWAJ</td>\n",
       "      <td>Dubai</td>\n",
       "      <td>United Arab Emirates</td>\n",
       "      <td>Not specified</td>\n",
       "      <td>[IT/Software Development, Marketing/PR/Adverti...</td>\n",
       "    </tr>\n",
       "    <tr>\n",
       "      <th>10</th>\n",
       "      <td>Data Analyst</td>\n",
       "      <td>Raya</td>\n",
       "      <td>Cairo</td>\n",
       "      <td>Egypt</td>\n",
       "      <td>Not specified</td>\n",
       "      <td>[IT/Software Development, Analyst/Research, En...</td>\n",
       "    </tr>\n",
       "    <tr>\n",
       "      <th>11</th>\n",
       "      <td>Data &amp; Analytics Analyst</td>\n",
       "      <td>Alphapartners</td>\n",
       "      <td>Dubai</td>\n",
       "      <td>United Arab Emirates</td>\n",
       "      <td>Not specified</td>\n",
       "      <td>[Administration, IT/Software Development, Engi...</td>\n",
       "    </tr>\n",
       "    <tr>\n",
       "      <th>12</th>\n",
       "      <td>Data Center Trainee</td>\n",
       "      <td>VAS</td>\n",
       "      <td>Cairo</td>\n",
       "      <td>Egypt</td>\n",
       "      <td>Not specified</td>\n",
       "      <td>[IT/Software Development, Sales/Retail, Engine...</td>\n",
       "    </tr>\n",
       "    <tr>\n",
       "      <th>13</th>\n",
       "      <td>Data Center Engineer</td>\n",
       "      <td>VAS</td>\n",
       "      <td>Cairo</td>\n",
       "      <td>Egypt</td>\n",
       "      <td>Not specified</td>\n",
       "      <td>[IT/Software Development, Sales/Retail, Engine...</td>\n",
       "    </tr>\n",
       "    <tr>\n",
       "      <th>14</th>\n",
       "      <td>Data &amp; Analytics Analyst</td>\n",
       "      <td>Careem</td>\n",
       "      <td>Dubai</td>\n",
       "      <td>United Arab Emirates</td>\n",
       "      <td>Not specified</td>\n",
       "      <td>[Administration, IT/Software Development, Engi...</td>\n",
       "    </tr>\n",
       "  </tbody>\n",
       "</table>\n",
       "</div>"
      ],
      "text/plain": [
       "                                            Job title   Company name  \\\n",
       "0                                        Data Analyst         Yodawy   \n",
       "1   Data & Analytics Manager Dubai, United Arab Em...         GroupM   \n",
       "2   Data & Analytics Director Dubai, United Arab E...         GroupM   \n",
       "3                            Senior Data Scientist II  Alphapartners   \n",
       "4                            Senior Data Scientist II         Careem   \n",
       "5               Master Data Administrator and Analyst         DANONE   \n",
       "6   Data Center Security Specialist - UAE National...         Amazon   \n",
       "7                               Senior Data Scientist       Etisalat   \n",
       "8                   Systems Engineer, Data Protection            VAS   \n",
       "9   Manager of Data Analysis and AI | Marine Industry          RAWAJ   \n",
       "10                                       Data Analyst           Raya   \n",
       "11                           Data & Analytics Analyst  Alphapartners   \n",
       "12                                Data Center Trainee            VAS   \n",
       "13                               Data Center Engineer            VAS   \n",
       "14                           Data & Analytics Analyst         Careem   \n",
       "\n",
       "           City               Country       Job type  \\\n",
       "0   Mohandessin                  Giza    Entry Level   \n",
       "1         Dubai  United Arab Emirates  Not specified   \n",
       "2         Dubai  United Arab Emirates  Not specified   \n",
       "3         Dubai  United Arab Emirates  Not specified   \n",
       "4         Dubai  United Arab Emirates  Not specified   \n",
       "5         Cairo                 Egypt  Not specified   \n",
       "6         Dubai  United Arab Emirates  Not specified   \n",
       "7         Maadi                 Cairo    Experienced   \n",
       "8         Cairo                 Egypt  Not specified   \n",
       "9         Dubai  United Arab Emirates  Not specified   \n",
       "10        Cairo                 Egypt  Not specified   \n",
       "11        Dubai  United Arab Emirates  Not specified   \n",
       "12        Cairo                 Egypt  Not specified   \n",
       "13        Cairo                 Egypt  Not specified   \n",
       "14        Dubai  United Arab Emirates  Not specified   \n",
       "\n",
       "                                               Skills  \n",
       "0   [IT/Software Development, Analyst/Research, En...  \n",
       "1   [Administration, IT/Software Development, Engi...  \n",
       "2   [Administration, IT/Software Development, Engi...  \n",
       "3   [R&D/Science, IT/Software Development, Enginee...  \n",
       "4   [R&D/Science, IT/Software Development, Enginee...  \n",
       "5   [IT/Software Development, Analyst/Research, En...  \n",
       "6   [Installation/Maintenance/Repair, IT/Software ...  \n",
       "7   [IT/Software Development, Analyst/Research, En...  \n",
       "8   [Installation/Maintenance/Repair, IT/Software ...  \n",
       "9   [IT/Software Development, Marketing/PR/Adverti...  \n",
       "10  [IT/Software Development, Analyst/Research, En...  \n",
       "11  [Administration, IT/Software Development, Engi...  \n",
       "12  [IT/Software Development, Sales/Retail, Engine...  \n",
       "13  [IT/Software Development, Sales/Retail, Engine...  \n",
       "14  [Administration, IT/Software Development, Engi...  "
      ]
     },
     "execution_count": 16,
     "metadata": {},
     "output_type": "execute_result"
    }
   ],
   "source": [
    "# Scraping page and extracting all the desired information and saving it in the previous table\n",
    "\n",
    "for idx, job in enumerate(s.find_all('div', 'css-1gatmva e1v1l3u10')):\n",
    "    \n",
    "    title = job.div.div.h2.a.text\n",
    "    \n",
    "    com_name = job.div.find_all('div')[1].a.text.split(' ')[0]\n",
    "    \n",
    "    city = job.div.find_all('div')[1].span.text.split(',')[0]\n",
    "    \n",
    "    country = job.div.find_all('div')[1].span.text.split(',')[1].strip()\n",
    "    \n",
    "    Type = job.div.find_all('div')[5].a.text\n",
    "    \n",
    "    skills = [skill.text.strip().replace('· ', '') for skill in job.div.find_all('div')[5].find_all('a')[1:]]\n",
    "    \n",
    "    df.loc[idx, 'Job title'] = title\n",
    "    \n",
    "    df.loc[idx, 'Company name'] = com_name\n",
    "    \n",
    "    df.loc[idx, 'City'] = city\n",
    "    \n",
    "    df.loc[idx, 'Country'] = country\n",
    "    \n",
    "    df.loc[idx, 'Job type'] = Type\n",
    "    \n",
    "    df.loc[idx, 'Skills'] = skills\n",
    "    \n",
    "df"
   ]
  },
  {
   "cell_type": "code",
   "execution_count": 17,
   "id": "a63e5950",
   "metadata": {
    "scrolled": true
   },
   "outputs": [],
   "source": [
    "# Save dataframe as csv file\n",
    "df.to_csv('Jobs.csv')"
   ]
  }
 ],
 "metadata": {
  "kernelspec": {
   "display_name": "Python 3 (ipykernel)",
   "language": "python",
   "name": "python3"
  },
  "language_info": {
   "codemirror_mode": {
    "name": "ipython",
    "version": 3
   },
   "file_extension": ".py",
   "mimetype": "text/x-python",
   "name": "python",
   "nbconvert_exporter": "python",
   "pygments_lexer": "ipython3",
   "version": "3.11.5"
  }
 },
 "nbformat": 4,
 "nbformat_minor": 5
}
